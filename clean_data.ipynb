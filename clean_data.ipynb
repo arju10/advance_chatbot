{
 "cells": [
  {
   "cell_type": "code",
   "execution_count": 1,
   "metadata": {},
   "outputs": [],
   "source": [
    "# Importing the required libraries\n",
    "import requests\n",
    "from bs4 import BeautifulSoup\n",
    "import pandas as pd"
   ]
  },
  {
   "cell_type": "code",
   "execution_count": 2,
   "metadata": {},
   "outputs": [
    {
     "data": {
      "text/html": [
       "<div>\n",
       "<style scoped>\n",
       "    .dataframe tbody tr th:only-of-type {\n",
       "        vertical-align: middle;\n",
       "    }\n",
       "\n",
       "    .dataframe tbody tr th {\n",
       "        vertical-align: top;\n",
       "    }\n",
       "\n",
       "    .dataframe thead th {\n",
       "        text-align: right;\n",
       "    }\n",
       "</style>\n",
       "<table border=\"1\" class=\"dataframe\">\n",
       "  <thead>\n",
       "    <tr style=\"text-align: right;\">\n",
       "      <th></th>\n",
       "      <th>title</th>\n",
       "      <th>url</th>\n",
       "      <th>content</th>\n",
       "    </tr>\n",
       "  </thead>\n",
       "  <tbody>\n",
       "    <tr>\n",
       "      <th>0</th>\n",
       "      <td>Grow Your Brand with GenZ Marketing's Full Dig...</td>\n",
       "      <td>https://genzmarketing.xyz</td>\n",
       "      <td>Grow Your Brand with GenZ Marketing's Full Dig...</td>\n",
       "    </tr>\n",
       "    <tr>\n",
       "      <th>1</th>\n",
       "      <td>Grow Your Brand with GenZ Marketing's Full Dig...</td>\n",
       "      <td>https://genzmarketing.xyz</td>\n",
       "      <td>Grow Your Brand with GenZ Marketing's Full Dig...</td>\n",
       "    </tr>\n",
       "    <tr>\n",
       "      <th>2</th>\n",
       "      <td>| About Us\\r\\n</td>\n",
       "      <td>https://genzmarketing.xyz/about_us</td>\n",
       "      <td>| About Us Loading... Home About Us Services P...</td>\n",
       "    </tr>\n",
       "    <tr>\n",
       "      <th>3</th>\n",
       "      <td>Services | GenZMarketing</td>\n",
       "      <td>https://genzmarketing.xyz/services</td>\n",
       "      <td>Services | GenZMarketing Loading... Home About...</td>\n",
       "    </tr>\n",
       "    <tr>\n",
       "      <th>4</th>\n",
       "      <td>| Portfolio\\r\\n</td>\n",
       "      <td>https://genzmarketing.xyz/portfolio</td>\n",
       "      <td>| Portfolio Loading... Home About Us Services ...</td>\n",
       "    </tr>\n",
       "  </tbody>\n",
       "</table>\n",
       "</div>"
      ],
      "text/plain": [
       "                                               title  \\\n",
       "0  Grow Your Brand with GenZ Marketing's Full Dig...   \n",
       "1  Grow Your Brand with GenZ Marketing's Full Dig...   \n",
       "2                                     | About Us\\r\\n   \n",
       "3                           Services | GenZMarketing   \n",
       "4                                    | Portfolio\\r\\n   \n",
       "\n",
       "                                   url  \\\n",
       "0            https://genzmarketing.xyz   \n",
       "1            https://genzmarketing.xyz   \n",
       "2   https://genzmarketing.xyz/about_us   \n",
       "3   https://genzmarketing.xyz/services   \n",
       "4  https://genzmarketing.xyz/portfolio   \n",
       "\n",
       "                                             content  \n",
       "0  Grow Your Brand with GenZ Marketing's Full Dig...  \n",
       "1  Grow Your Brand with GenZ Marketing's Full Dig...  \n",
       "2  | About Us Loading... Home About Us Services P...  \n",
       "3  Services | GenZMarketing Loading... Home About...  \n",
       "4  | Portfolio Loading... Home About Us Services ...  "
      ]
     },
     "execution_count": 2,
     "metadata": {},
     "output_type": "execute_result"
    }
   ],
   "source": [
    "# Importing the dataset\n",
    "data = pd.read_csv('data.csv')\n",
    "data.head(5) # Displaying the first 5 rows of the dataset"
   ]
  },
  {
   "cell_type": "code",
   "execution_count": 3,
   "metadata": {},
   "outputs": [
    {
     "name": "stdout",
     "output_type": "stream",
     "text": [
      "<class 'pandas.core.frame.DataFrame'>\n",
      "RangeIndex: 83 entries, 0 to 82\n",
      "Data columns (total 3 columns):\n",
      " #   Column   Non-Null Count  Dtype \n",
      "---  ------   --------------  ----- \n",
      " 0   title    77 non-null     object\n",
      " 1   url      83 non-null     object\n",
      " 2   content  83 non-null     object\n",
      "dtypes: object(3)\n",
      "memory usage: 2.1+ KB\n"
     ]
    }
   ],
   "source": [
    "data.info() # Displaying the information about the dataset"
   ]
  },
  {
   "cell_type": "code",
   "execution_count": 4,
   "metadata": {},
   "outputs": [],
   "source": [
    "#  Convert to DataFrame\n",
    "data = pd.DataFrame(data)"
   ]
  },
  {
   "cell_type": "code",
   "execution_count": 5,
   "metadata": {},
   "outputs": [
    {
     "data": {
      "text/html": [
       "<div>\n",
       "<style scoped>\n",
       "    .dataframe tbody tr th:only-of-type {\n",
       "        vertical-align: middle;\n",
       "    }\n",
       "\n",
       "    .dataframe tbody tr th {\n",
       "        vertical-align: top;\n",
       "    }\n",
       "\n",
       "    .dataframe thead th {\n",
       "        text-align: right;\n",
       "    }\n",
       "</style>\n",
       "<table border=\"1\" class=\"dataframe\">\n",
       "  <thead>\n",
       "    <tr style=\"text-align: right;\">\n",
       "      <th></th>\n",
       "      <th>title</th>\n",
       "      <th>url</th>\n",
       "      <th>content</th>\n",
       "    </tr>\n",
       "  </thead>\n",
       "  <tbody>\n",
       "    <tr>\n",
       "      <th>0</th>\n",
       "      <td>Grow Your Brand with GenZ Marketing's Full Dig...</td>\n",
       "      <td>https://genzmarketing.xyz</td>\n",
       "      <td>Grow Your Brand with GenZ Marketing's Full Dig...</td>\n",
       "    </tr>\n",
       "    <tr>\n",
       "      <th>1</th>\n",
       "      <td>Grow Your Brand with GenZ Marketing's Full Dig...</td>\n",
       "      <td>https://genzmarketing.xyz</td>\n",
       "      <td>Grow Your Brand with GenZ Marketing's Full Dig...</td>\n",
       "    </tr>\n",
       "    <tr>\n",
       "      <th>2</th>\n",
       "      <td>| About Us\\r\\n</td>\n",
       "      <td>https://genzmarketing.xyz/about_us</td>\n",
       "      <td>| About Us Loading... Home About Us Services P...</td>\n",
       "    </tr>\n",
       "    <tr>\n",
       "      <th>3</th>\n",
       "      <td>Services | GenZMarketing</td>\n",
       "      <td>https://genzmarketing.xyz/services</td>\n",
       "      <td>Services | GenZMarketing Loading... Home About...</td>\n",
       "    </tr>\n",
       "    <tr>\n",
       "      <th>4</th>\n",
       "      <td>| Portfolio\\r\\n</td>\n",
       "      <td>https://genzmarketing.xyz/portfolio</td>\n",
       "      <td>| Portfolio Loading... Home About Us Services ...</td>\n",
       "    </tr>\n",
       "  </tbody>\n",
       "</table>\n",
       "</div>"
      ],
      "text/plain": [
       "                                               title  \\\n",
       "0  Grow Your Brand with GenZ Marketing's Full Dig...   \n",
       "1  Grow Your Brand with GenZ Marketing's Full Dig...   \n",
       "2                                     | About Us\\r\\n   \n",
       "3                           Services | GenZMarketing   \n",
       "4                                    | Portfolio\\r\\n   \n",
       "\n",
       "                                   url  \\\n",
       "0            https://genzmarketing.xyz   \n",
       "1            https://genzmarketing.xyz   \n",
       "2   https://genzmarketing.xyz/about_us   \n",
       "3   https://genzmarketing.xyz/services   \n",
       "4  https://genzmarketing.xyz/portfolio   \n",
       "\n",
       "                                             content  \n",
       "0  Grow Your Brand with GenZ Marketing's Full Dig...  \n",
       "1  Grow Your Brand with GenZ Marketing's Full Dig...  \n",
       "2  | About Us Loading... Home About Us Services P...  \n",
       "3  Services | GenZMarketing Loading... Home About...  \n",
       "4  | Portfolio Loading... Home About Us Services ...  "
      ]
     },
     "execution_count": 5,
     "metadata": {},
     "output_type": "execute_result"
    }
   ],
   "source": [
    "data.head(5) # Displaying the first 5 rows of the dataset"
   ]
  },
  {
   "cell_type": "code",
   "execution_count": 6,
   "metadata": {},
   "outputs": [
    {
     "name": "stdout",
     "output_type": "stream",
     "text": [
      "0     False\n",
      "1      True\n",
      "2     False\n",
      "3     False\n",
      "4     False\n",
      "      ...  \n",
      "78     True\n",
      "79     True\n",
      "80    False\n",
      "81    False\n",
      "82    False\n",
      "Length: 83, dtype: bool\n"
     ]
    }
   ],
   "source": [
    "# Check for duplicate rows in the dataframe\n",
    "duplicates = data.duplicated()\n",
    "print(duplicates)"
   ]
  },
  {
   "cell_type": "code",
   "execution_count": 7,
   "metadata": {},
   "outputs": [
    {
     "name": "stdout",
     "output_type": "stream",
     "text": [
      "Number of duplicate rows: 36\n"
     ]
    }
   ],
   "source": [
    "# Check the number of duplicate rows in the dataframe\n",
    "num_duplicates = duplicates.sum()\n",
    "print(f\"Number of duplicate rows: {num_duplicates}\")"
   ]
  },
  {
   "cell_type": "code",
   "execution_count": null,
   "metadata": {},
   "outputs": [],
   "source": []
  }
 ],
 "metadata": {
  "kernelspec": {
   "display_name": "venv",
   "language": "python",
   "name": "python3"
  },
  "language_info": {
   "codemirror_mode": {
    "name": "ipython",
    "version": 3
   },
   "file_extension": ".py",
   "mimetype": "text/x-python",
   "name": "python",
   "nbconvert_exporter": "python",
   "pygments_lexer": "ipython3",
   "version": "3.12.3"
  }
 },
 "nbformat": 4,
 "nbformat_minor": 2
}
