{
 "cells": [
  {
   "cell_type": "code",
   "execution_count": 1,
   "metadata": {},
   "outputs": [],
   "source": [
    "# Import necessaeries libraries\n",
    "import requests\n",
    "from bs4 import BeautifulSoup\n",
    "import pandas as pd"
   ]
  },
  {
   "cell_type": "code",
   "execution_count": 2,
   "metadata": {},
   "outputs": [],
   "source": [
    "# Define the base URL and headers\n",
    "base_url = \"https://genzmarketing.xyz/\"\n",
    "headers = {\"User-Agent\": \"Mozilla/5.0\"}"
   ]
  },
  {
   "cell_type": "code",
   "execution_count": 3,
   "metadata": {},
   "outputs": [],
   "source": [
    "# Fetch the main page content\n",
    "response = requests.get(base_url, headers=headers)\n",
    "if response.status_code == 200:\n",
    "    soup = BeautifulSoup(response.text, 'html.parser')\n",
    "else:\n",
    "    print(f\"Failed to fetch the website: {response.status_code}\")\n",
    "    exit()"
   ]
  },
  {
   "cell_type": "code",
   "execution_count": 4,
   "metadata": {},
   "outputs": [],
   "source": [
    "# Extract links to articles/pages\n",
    "articles = []\n",
    "for link in soup.find_all('a', href=True):\n",
    "    url = link['href']\n",
    "    if url.startswith('/'): \n",
    "        url = base_url + url.lstrip('/')\n",
    "    if base_url in url:\n",
    "        articles.append(url)"
   ]
  },
  {
   "cell_type": "code",
   "execution_count": 5,
   "metadata": {},
   "outputs": [],
   "source": [
    "# Extract content from each article\n",
    "data = []\n",
    "for article_url in set(articles):  # For Avoid duplicates\n",
    "    try:\n",
    "        article_response = requests.get(article_url, headers=headers)\n",
    "        if article_response.status_code == 200:\n",
    "            article_soup = BeautifulSoup(article_response.text, 'html.parser')\n",
    "            title = article_soup.title.string if article_soup.title else \"No Title\"\n",
    "            content = \" \".join(p.text for p in article_soup.find_all('p'))  # Extract paragraphs\n",
    "            data.append({\"title\": title, \"url\": article_url, \"content\": content})\n",
    "    except Exception as e:\n",
    "        print(f\"Error fetching {article_url}: {e}\")"
   ]
  },
  {
   "cell_type": "code",
   "execution_count": 6,
   "metadata": {},
   "outputs": [
    {
     "name": "stdout",
     "output_type": "stream",
     "text": [
      "Data scraping complete. Saved as genzmarketing_data.csv.\n"
     ]
    }
   ],
   "source": [
    "# Save to CSV\n",
    "df = pd.DataFrame(data)\n",
    "df.to_csv('genzmarketing_data.csv', index=False)\n",
    "print(\"Data scraping complete. Saved as genzmarketing_data.csv.\")"
   ]
  },
  {
   "cell_type": "code",
   "execution_count": 7,
   "metadata": {},
   "outputs": [
    {
     "data": {
      "text/html": [
       "<div>\n",
       "<style scoped>\n",
       "    .dataframe tbody tr th:only-of-type {\n",
       "        vertical-align: middle;\n",
       "    }\n",
       "\n",
       "    .dataframe tbody tr th {\n",
       "        vertical-align: top;\n",
       "    }\n",
       "\n",
       "    .dataframe thead th {\n",
       "        text-align: right;\n",
       "    }\n",
       "</style>\n",
       "<table border=\"1\" class=\"dataframe\">\n",
       "  <thead>\n",
       "    <tr style=\"text-align: right;\">\n",
       "      <th></th>\n",
       "      <th>title</th>\n",
       "      <th>url</th>\n",
       "      <th>content</th>\n",
       "    </tr>\n",
       "  </thead>\n",
       "  <tbody>\n",
       "    <tr>\n",
       "      <th>0</th>\n",
       "      <td>The Neurodivergent Business Consortium (NB...</td>\n",
       "      <td>https://genzmarketing.xyz/blog/the-neurodiverg...</td>\n",
       "      <td>Loading... I was a very odd child to many peop...</td>\n",
       "    </tr>\n",
       "    <tr>\n",
       "      <th>1</th>\n",
       "      <td>NaN</td>\n",
       "      <td>https://genzmarketing.xyz/service-CT</td>\n",
       "      <td>Loading... We know training and specific subje...</td>\n",
       "    </tr>\n",
       "    <tr>\n",
       "      <th>2</th>\n",
       "      <td>Cold Email Marketing| Portfolio\\r\\n</td>\n",
       "      <td>https://genzmarketing.xyz/portfolio/category/e...</td>\n",
       "      <td>Loading...  Why is cold email marketing servic...</td>\n",
       "    </tr>\n",
       "    <tr>\n",
       "      <th>3</th>\n",
       "      <td>Video Advertisement| Portfolio\\r\\n</td>\n",
       "      <td>https://genzmarketing.xyz/portfolio/category/e...</td>\n",
       "      <td>Loading...  Theme-based Video Advertisement  F...</td>\n",
       "    </tr>\n",
       "    <tr>\n",
       "      <th>4</th>\n",
       "      <td>How Lead Generation Works? ( GenZMarketing...</td>\n",
       "      <td>https://genzmarketing.xyz/blog/how-lead-genera...</td>\n",
       "      <td>Loading... Lead generation is the process of a...</td>\n",
       "    </tr>\n",
       "  </tbody>\n",
       "</table>\n",
       "</div>"
      ],
      "text/plain": [
       "                                               title  \\\n",
       "0      The Neurodivergent Business Consortium (NB...   \n",
       "1                                                NaN   \n",
       "2                Cold Email Marketing| Portfolio\\r\\n   \n",
       "3                 Video Advertisement| Portfolio\\r\\n   \n",
       "4      How Lead Generation Works? ( GenZMarketing...   \n",
       "\n",
       "                                                 url  \\\n",
       "0  https://genzmarketing.xyz/blog/the-neurodiverg...   \n",
       "1               https://genzmarketing.xyz/service-CT   \n",
       "2  https://genzmarketing.xyz/portfolio/category/e...   \n",
       "3  https://genzmarketing.xyz/portfolio/category/e...   \n",
       "4  https://genzmarketing.xyz/blog/how-lead-genera...   \n",
       "\n",
       "                                             content  \n",
       "0  Loading... I was a very odd child to many peop...  \n",
       "1  Loading... We know training and specific subje...  \n",
       "2  Loading...  Why is cold email marketing servic...  \n",
       "3  Loading...  Theme-based Video Advertisement  F...  \n",
       "4  Loading... Lead generation is the process of a...  "
      ]
     },
     "execution_count": 7,
     "metadata": {},
     "output_type": "execute_result"
    }
   ],
   "source": [
    "# Check CSV file\n",
    "data = pd.read_csv(\"genzmarketing_data.csv\")\n",
    "# print(data)\n",
    "data.head(5)\n"
   ]
  }
 ],
 "metadata": {
  "kernelspec": {
   "display_name": "venv",
   "language": "python",
   "name": "python3"
  },
  "language_info": {
   "codemirror_mode": {
    "name": "ipython",
    "version": 3
   },
   "file_extension": ".py",
   "mimetype": "text/x-python",
   "name": "python",
   "nbconvert_exporter": "python",
   "pygments_lexer": "ipython3",
   "version": "3.12.3"
  }
 },
 "nbformat": 4,
 "nbformat_minor": 2
}
