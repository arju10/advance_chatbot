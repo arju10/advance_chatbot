{
 "cells": [
  {
   "cell_type": "code",
   "execution_count": 1,
   "metadata": {},
   "outputs": [],
   "source": [
    "# Importing the required libraries\n",
    "import requests\n",
    "from bs4 import BeautifulSoup\n",
    "import pandas as pd"
   ]
  },
  {
   "cell_type": "code",
   "execution_count": 3,
   "metadata": {},
   "outputs": [
    {
     "data": {
      "text/html": [
       "<div>\n",
       "<style scoped>\n",
       "    .dataframe tbody tr th:only-of-type {\n",
       "        vertical-align: middle;\n",
       "    }\n",
       "\n",
       "    .dataframe tbody tr th {\n",
       "        vertical-align: top;\n",
       "    }\n",
       "\n",
       "    .dataframe thead th {\n",
       "        text-align: right;\n",
       "    }\n",
       "</style>\n",
       "<table border=\"1\" class=\"dataframe\">\n",
       "  <thead>\n",
       "    <tr style=\"text-align: right;\">\n",
       "      <th></th>\n",
       "      <th>title</th>\n",
       "      <th>url</th>\n",
       "      <th>content</th>\n",
       "    </tr>\n",
       "  </thead>\n",
       "  <tbody>\n",
       "    <tr>\n",
       "      <th>0</th>\n",
       "      <td>The Neurodivergent Business Consortium (NB...</td>\n",
       "      <td>https://genzmarketing.xyz/blog/the-neurodiverg...</td>\n",
       "      <td>Loading... I was a very odd child to many peop...</td>\n",
       "    </tr>\n",
       "    <tr>\n",
       "      <th>1</th>\n",
       "      <td>NaN</td>\n",
       "      <td>https://genzmarketing.xyz/service-CT</td>\n",
       "      <td>Loading... We know training and specific subje...</td>\n",
       "    </tr>\n",
       "    <tr>\n",
       "      <th>2</th>\n",
       "      <td>Cold Email Marketing| Portfolio\\r\\n</td>\n",
       "      <td>https://genzmarketing.xyz/portfolio/category/e...</td>\n",
       "      <td>Loading...  Why is cold email marketing servic...</td>\n",
       "    </tr>\n",
       "    <tr>\n",
       "      <th>3</th>\n",
       "      <td>Video Advertisement| Portfolio\\r\\n</td>\n",
       "      <td>https://genzmarketing.xyz/portfolio/category/e...</td>\n",
       "      <td>Loading...  Theme-based Video Advertisement  F...</td>\n",
       "    </tr>\n",
       "    <tr>\n",
       "      <th>4</th>\n",
       "      <td>How Lead Generation Works? ( GenZMarketing...</td>\n",
       "      <td>https://genzmarketing.xyz/blog/how-lead-genera...</td>\n",
       "      <td>Loading... Lead generation is the process of a...</td>\n",
       "    </tr>\n",
       "  </tbody>\n",
       "</table>\n",
       "</div>"
      ],
      "text/plain": [
       "                                               title  \\\n",
       "0      The Neurodivergent Business Consortium (NB...   \n",
       "1                                                NaN   \n",
       "2                Cold Email Marketing| Portfolio\\r\\n   \n",
       "3                 Video Advertisement| Portfolio\\r\\n   \n",
       "4      How Lead Generation Works? ( GenZMarketing...   \n",
       "\n",
       "                                                 url  \\\n",
       "0  https://genzmarketing.xyz/blog/the-neurodiverg...   \n",
       "1               https://genzmarketing.xyz/service-CT   \n",
       "2  https://genzmarketing.xyz/portfolio/category/e...   \n",
       "3  https://genzmarketing.xyz/portfolio/category/e...   \n",
       "4  https://genzmarketing.xyz/blog/how-lead-genera...   \n",
       "\n",
       "                                             content  \n",
       "0  Loading... I was a very odd child to many peop...  \n",
       "1  Loading... We know training and specific subje...  \n",
       "2  Loading...  Why is cold email marketing servic...  \n",
       "3  Loading...  Theme-based Video Advertisement  F...  \n",
       "4  Loading... Lead generation is the process of a...  "
      ]
     },
     "execution_count": 3,
     "metadata": {},
     "output_type": "execute_result"
    }
   ],
   "source": [
    "# Importing the dataset\n",
    "data = pd.read_csv('genzmarketing_data.csv')\n",
    "data.head(5) # Displaying the first 5 rows of the dataset"
   ]
  },
  {
   "cell_type": "code",
   "execution_count": 4,
   "metadata": {},
   "outputs": [
    {
     "name": "stdout",
     "output_type": "stream",
     "text": [
      "<class 'pandas.core.frame.DataFrame'>\n",
      "RangeIndex: 41 entries, 0 to 40\n",
      "Data columns (total 3 columns):\n",
      " #   Column   Non-Null Count  Dtype \n",
      "---  ------   --------------  ----- \n",
      " 0   title    35 non-null     object\n",
      " 1   url      41 non-null     object\n",
      " 2   content  41 non-null     object\n",
      "dtypes: object(3)\n",
      "memory usage: 1.1+ KB\n"
     ]
    }
   ],
   "source": [
    "data.info() # Displaying the information about the dataset"
   ]
  },
  {
   "cell_type": "code",
   "execution_count": 5,
   "metadata": {},
   "outputs": [],
   "source": [
    "#  Convert to DataFrame\n",
    "data = pd.DataFrame(data)"
   ]
  },
  {
   "cell_type": "code",
   "execution_count": 6,
   "metadata": {},
   "outputs": [
    {
     "data": {
      "text/html": [
       "<div>\n",
       "<style scoped>\n",
       "    .dataframe tbody tr th:only-of-type {\n",
       "        vertical-align: middle;\n",
       "    }\n",
       "\n",
       "    .dataframe tbody tr th {\n",
       "        vertical-align: top;\n",
       "    }\n",
       "\n",
       "    .dataframe thead th {\n",
       "        text-align: right;\n",
       "    }\n",
       "</style>\n",
       "<table border=\"1\" class=\"dataframe\">\n",
       "  <thead>\n",
       "    <tr style=\"text-align: right;\">\n",
       "      <th></th>\n",
       "      <th>title</th>\n",
       "      <th>url</th>\n",
       "      <th>content</th>\n",
       "    </tr>\n",
       "  </thead>\n",
       "  <tbody>\n",
       "    <tr>\n",
       "      <th>0</th>\n",
       "      <td>The Neurodivergent Business Consortium (NB...</td>\n",
       "      <td>https://genzmarketing.xyz/blog/the-neurodiverg...</td>\n",
       "      <td>Loading... I was a very odd child to many peop...</td>\n",
       "    </tr>\n",
       "    <tr>\n",
       "      <th>1</th>\n",
       "      <td>NaN</td>\n",
       "      <td>https://genzmarketing.xyz/service-CT</td>\n",
       "      <td>Loading... We know training and specific subje...</td>\n",
       "    </tr>\n",
       "    <tr>\n",
       "      <th>2</th>\n",
       "      <td>Cold Email Marketing| Portfolio\\r\\n</td>\n",
       "      <td>https://genzmarketing.xyz/portfolio/category/e...</td>\n",
       "      <td>Loading...  Why is cold email marketing servic...</td>\n",
       "    </tr>\n",
       "    <tr>\n",
       "      <th>3</th>\n",
       "      <td>Video Advertisement| Portfolio\\r\\n</td>\n",
       "      <td>https://genzmarketing.xyz/portfolio/category/e...</td>\n",
       "      <td>Loading...  Theme-based Video Advertisement  F...</td>\n",
       "    </tr>\n",
       "    <tr>\n",
       "      <th>4</th>\n",
       "      <td>How Lead Generation Works? ( GenZMarketing...</td>\n",
       "      <td>https://genzmarketing.xyz/blog/how-lead-genera...</td>\n",
       "      <td>Loading... Lead generation is the process of a...</td>\n",
       "    </tr>\n",
       "  </tbody>\n",
       "</table>\n",
       "</div>"
      ],
      "text/plain": [
       "                                               title  \\\n",
       "0      The Neurodivergent Business Consortium (NB...   \n",
       "1                                                NaN   \n",
       "2                Cold Email Marketing| Portfolio\\r\\n   \n",
       "3                 Video Advertisement| Portfolio\\r\\n   \n",
       "4      How Lead Generation Works? ( GenZMarketing...   \n",
       "\n",
       "                                                 url  \\\n",
       "0  https://genzmarketing.xyz/blog/the-neurodiverg...   \n",
       "1               https://genzmarketing.xyz/service-CT   \n",
       "2  https://genzmarketing.xyz/portfolio/category/e...   \n",
       "3  https://genzmarketing.xyz/portfolio/category/e...   \n",
       "4  https://genzmarketing.xyz/blog/how-lead-genera...   \n",
       "\n",
       "                                             content  \n",
       "0  Loading... I was a very odd child to many peop...  \n",
       "1  Loading... We know training and specific subje...  \n",
       "2  Loading...  Why is cold email marketing servic...  \n",
       "3  Loading...  Theme-based Video Advertisement  F...  \n",
       "4  Loading... Lead generation is the process of a...  "
      ]
     },
     "execution_count": 6,
     "metadata": {},
     "output_type": "execute_result"
    }
   ],
   "source": [
    "data.head(5) # Displaying the first 5 rows of the dataset"
   ]
  },
  {
   "cell_type": "code",
   "execution_count": 11,
   "metadata": {},
   "outputs": [
    {
     "name": "stdout",
     "output_type": "stream",
     "text": [
      "Number of duplicate rows: 0\n"
     ]
    }
   ],
   "source": [
    "# Check the number of duplicate rows in the dataframe\n",
    "duplicates = data.duplicated()\n",
    "num_duplicates = duplicates.sum()\n",
    "print(f\"Number of duplicate rows: {num_duplicates}\")"
   ]
  },
  {
   "cell_type": "code",
   "execution_count": 12,
   "metadata": {},
   "outputs": [
    {
     "name": "stdout",
     "output_type": "stream",
     "text": [
      "title      6\n",
      "url        0\n",
      "content    0\n",
      "dtype: int64\n"
     ]
    }
   ],
   "source": [
    "# Check for missing values in the dataframe\n",
    "missing_values = data.isnull().sum()\n",
    "print(missing_values)"
   ]
  },
  {
   "cell_type": "code",
   "execution_count": 13,
   "metadata": {},
   "outputs": [
    {
     "name": "stdout",
     "output_type": "stream",
     "text": [
      "   title                                    url  \\\n",
      "1    NaN   https://genzmarketing.xyz/service-CT   \n",
      "16   NaN  https://genzmarketing.xyz/service-SMC   \n",
      "24   NaN  https://genzmarketing.xyz/service-CeM   \n",
      "25   NaN   https://genzmarketing.xyz/service-CC   \n",
      "26   NaN  https://genzmarketing.xyz/service-PRC   \n",
      "39   NaN  https://genzmarketing.xyz/service-SMM   \n",
      "\n",
      "                                              content  \n",
      "1   Loading... We know training and specific subje...  \n",
      "16  Loading... GenZ researches and understands you...  \n",
      "24  Loading... GenZ has a dedicated cold email app...  \n",
      "25  Loading... GenZ has experienced and dedicated ...  \n",
      "26  Loading... GenZ’s public relations (PR) and co...  \n",
      "39  Loading... GenZ’s dedicated LinkedIn project m...  \n"
     ]
    }
   ],
   "source": [
    "# Display rows with missing values\n",
    "missing_rows = data[data.isnull().any(axis=1)]\n",
    "print(missing_rows)"
   ]
  },
  {
   "cell_type": "code",
   "execution_count": 14,
   "metadata": {},
   "outputs": [],
   "source": [
    "# Handle missing values\n",
    "data['title'] = data['title'].fillna(\"Untitled\")"
   ]
  },
  {
   "cell_type": "code",
   "execution_count": 17,
   "metadata": {},
   "outputs": [
    {
     "name": "stdout",
     "output_type": "stream",
     "text": [
      "<class 'pandas.core.frame.DataFrame'>\n",
      "RangeIndex: 41 entries, 0 to 40\n",
      "Data columns (total 3 columns):\n",
      " #   Column   Non-Null Count  Dtype \n",
      "---  ------   --------------  ----- \n",
      " 0   title    41 non-null     object\n",
      " 1   url      41 non-null     object\n",
      " 2   content  41 non-null     object\n",
      "dtypes: object(3)\n",
      "memory usage: 1.1+ KB\n"
     ]
    }
   ],
   "source": [
    "data.info() # Displaying the information about the dataset"
   ]
  },
  {
   "cell_type": "code",
   "execution_count": 19,
   "metadata": {},
   "outputs": [
    {
     "data": {
      "text/html": [
       "<div>\n",
       "<style scoped>\n",
       "    .dataframe tbody tr th:only-of-type {\n",
       "        vertical-align: middle;\n",
       "    }\n",
       "\n",
       "    .dataframe tbody tr th {\n",
       "        vertical-align: top;\n",
       "    }\n",
       "\n",
       "    .dataframe thead th {\n",
       "        text-align: right;\n",
       "    }\n",
       "</style>\n",
       "<table border=\"1\" class=\"dataframe\">\n",
       "  <thead>\n",
       "    <tr style=\"text-align: right;\">\n",
       "      <th></th>\n",
       "      <th>title</th>\n",
       "      <th>url</th>\n",
       "      <th>content</th>\n",
       "    </tr>\n",
       "  </thead>\n",
       "  <tbody>\n",
       "    <tr>\n",
       "      <th>0</th>\n",
       "      <td>The Neurodivergent Business Consortium (NB...</td>\n",
       "      <td>https://genzmarketing.xyz/blog/the-neurodiverg...</td>\n",
       "      <td>Loading... I was a very odd child to many peop...</td>\n",
       "    </tr>\n",
       "    <tr>\n",
       "      <th>1</th>\n",
       "      <td>Untitled</td>\n",
       "      <td>https://genzmarketing.xyz/service-CT</td>\n",
       "      <td>Loading... We know training and specific subje...</td>\n",
       "    </tr>\n",
       "    <tr>\n",
       "      <th>2</th>\n",
       "      <td>Cold Email Marketing Portfolio</td>\n",
       "      <td>https://genzmarketing.xyz/portfolio/category/e...</td>\n",
       "      <td>Loading...  Why is cold email marketing servic...</td>\n",
       "    </tr>\n",
       "    <tr>\n",
       "      <th>3</th>\n",
       "      <td>Video Advertisement Portfolio</td>\n",
       "      <td>https://genzmarketing.xyz/portfolio/category/e...</td>\n",
       "      <td>Loading...  Theme-based Video Advertisement  F...</td>\n",
       "    </tr>\n",
       "    <tr>\n",
       "      <th>4</th>\n",
       "      <td>How Lead Generation Works? ( GenZMarketing )</td>\n",
       "      <td>https://genzmarketing.xyz/blog/how-lead-genera...</td>\n",
       "      <td>Loading... Lead generation is the process of a...</td>\n",
       "    </tr>\n",
       "  </tbody>\n",
       "</table>\n",
       "</div>"
      ],
      "text/plain": [
       "                                               title  \\\n",
       "0      The Neurodivergent Business Consortium (NB...   \n",
       "1                                           Untitled   \n",
       "2                     Cold Email Marketing Portfolio   \n",
       "3                      Video Advertisement Portfolio   \n",
       "4       How Lead Generation Works? ( GenZMarketing )   \n",
       "\n",
       "                                                 url  \\\n",
       "0  https://genzmarketing.xyz/blog/the-neurodiverg...   \n",
       "1               https://genzmarketing.xyz/service-CT   \n",
       "2  https://genzmarketing.xyz/portfolio/category/e...   \n",
       "3  https://genzmarketing.xyz/portfolio/category/e...   \n",
       "4  https://genzmarketing.xyz/blog/how-lead-genera...   \n",
       "\n",
       "                                             content  \n",
       "0  Loading... I was a very odd child to many peop...  \n",
       "1  Loading... We know training and specific subje...  \n",
       "2  Loading...  Why is cold email marketing servic...  \n",
       "3  Loading...  Theme-based Video Advertisement  F...  \n",
       "4  Loading... Lead generation is the process of a...  "
      ]
     },
     "execution_count": 19,
     "metadata": {},
     "output_type": "execute_result"
    }
   ],
   "source": [
    "# Remove unwanted characters from the 'title' and 'content' columns\n",
    "data['title'] = data['title'].str.replace(r'[|<>\\r\\n]', '', regex=True)\n",
    "data['content'] = data['content'].str.replace(r'[|<>\\r\\n]', '', regex=True)\n",
    "\n",
    "# Display the cleaned dataset\n",
    "data.head(5)"
   ]
  },
  {
   "cell_type": "code",
   "execution_count": 20,
   "metadata": {},
   "outputs": [],
   "source": [
    "# Ensure consistent formatting\n",
    "data['content'] = data['content'].str.strip()\n",
    "data['title'] = data['title'].str.strip()"
   ]
  },
  {
   "cell_type": "code",
   "execution_count": 24,
   "metadata": {},
   "outputs": [
    {
     "name": "stdout",
     "output_type": "stream",
     "text": [
      "0     The Neurodivergent Business Consortium (NBC) p...\n",
      "1                                              Untitled\n",
      "2                        Cold Email Marketing Portfolio\n",
      "3                         Video Advertisement Portfolio\n",
      "4          How Lead Generation Works? ( GenZMarketing )\n",
      "5                        Competitive Analysis Portfolio\n",
      "6                                             Portfolio\n",
      "7     Instagram Metrics You Should Be Tracking ( Gen...\n",
      "8                                    Branding Portfolio\n",
      "9      Is brand engagement necessary? ( GenZMarketing )\n",
      "10    Factors that Affect Portfolio Allocation ( Gen...\n",
      "11    Best SEO Agency for Higher Education ( GenZMar...\n",
      "12                    Social Media Management Portfolio\n",
      "13    How ChatGPT can help you to write the company ...\n",
      "14                                          Get Started\n",
      "15                       Training & Mentoring Portfolio\n",
      "16                                             Untitled\n",
      "17                        PR & Communications Portfolio\n",
      "18                               Case Studies Portfolio\n",
      "19    What is Social media marketing? ( GenZMarketing )\n",
      "20                      Content & Copywriting Portfolio\n",
      "21                              Services  GenZMarketing\n",
      "22                     Social Media Marketing Portfolio\n",
      "23    The necessity of web application development (...\n",
      "24                                             Untitled\n",
      "25                                             Untitled\n",
      "26                                             Untitled\n",
      "27                          Graphic Designing Portfolio\n",
      "28                                           Contact Us\n",
      "29    What is Return On Investment (ROI)? ( GenZMark...\n",
      "30                                  Marketing Portfolio\n",
      "31                                                Books\n",
      "32    Can Community Service grow your business? ( Ge...\n",
      "33                                             About Us\n",
      "34    How to Increase Web Traffic Using LinkedIn? ( ...\n",
      "35                                  Blog  GenZMarketing\n",
      "36                      Social Media Campaign Portfolio\n",
      "37    Improve your Social presence through Social me...\n",
      "38                                                 FAQS\n",
      "39                                             Untitled\n",
      "40                                            Portfolio\n",
      "Name: title, dtype: object\n"
     ]
    }
   ],
   "source": [
    "print(data['title'])"
   ]
  },
  {
   "cell_type": "code",
   "execution_count": 25,
   "metadata": {},
   "outputs": [
    {
     "name": "stdout",
     "output_type": "stream",
     "text": [
      "How ChatGPT can help you to write the company and personal content? ( GenZMarketing )\n"
     ]
    }
   ],
   "source": [
    "print(data['title'][13])"
   ]
  },
  {
   "cell_type": "code",
   "execution_count": 31,
   "metadata": {},
   "outputs": [
    {
     "data": {
      "text/plain": [
       "0     The Neurodivergent Business Consortium (NBC) p...\n",
       "1                                              Untitled\n",
       "2                        Cold Email Marketing Portfolio\n",
       "3                         Video Advertisement Portfolio\n",
       "4                           How Lead Generation Works? \n",
       "5                        Competitive Analysis Portfolio\n",
       "6                                             Portfolio\n",
       "7             Instagram Metrics You Should Be Tracking \n",
       "8                                    Branding Portfolio\n",
       "9                       Is brand engagement necessary? \n",
       "10            Factors that Affect Portfolio Allocation \n",
       "11                Best SEO Agency for Higher Education \n",
       "12                    Social Media Management Portfolio\n",
       "13    How ChatGPT can help you to write the company ...\n",
       "14                                          Get Started\n",
       "15                       Training & Mentoring Portfolio\n",
       "16                                             Untitled\n",
       "17                        PR & Communications Portfolio\n",
       "18                               Case Studies Portfolio\n",
       "19                     What is Social media marketing? \n",
       "20                      Content & Copywriting Portfolio\n",
       "21                              Services  GenZMarketing\n",
       "22                     Social Media Marketing Portfolio\n",
       "23        The necessity of web application development \n",
       "24                                             Untitled\n",
       "25                                             Untitled\n",
       "26                                             Untitled\n",
       "27                          Graphic Designing Portfolio\n",
       "28                                           Contact Us\n",
       "29                 What is Return On Investment (ROI)? \n",
       "30                                  Marketing Portfolio\n",
       "31                                                Books\n",
       "32           Can Community Service grow your business? \n",
       "33                                             About Us\n",
       "34         How to Increase Web Traffic Using LinkedIn? \n",
       "35                                  Blog  GenZMarketing\n",
       "36                      Social Media Campaign Portfolio\n",
       "37    Improve your Social presence through Social me...\n",
       "38                                                 FAQS\n",
       "39                                             Untitled\n",
       "40                                            Portfolio\n",
       "Name: title, dtype: object"
      ]
     },
     "execution_count": 31,
     "metadata": {},
     "output_type": "execute_result"
    }
   ],
   "source": [
    "# Remove the '( GenZMarketing )' from the 'title' column\n",
    "data['title'] = data['title'].str.replace(r'\\( GenZMarketing \\)', '', regex=True)\n",
    "data['title']\n"
   ]
  },
  {
   "cell_type": "code",
   "execution_count": 32,
   "metadata": {},
   "outputs": [
    {
     "name": "stdout",
     "output_type": "stream",
     "text": [
      "How Lead Generation Works? \n"
     ]
    }
   ],
   "source": [
    "print(data['title'][4])"
   ]
  },
  {
   "cell_type": "code",
   "execution_count": 33,
   "metadata": {},
   "outputs": [
    {
     "name": "stdout",
     "output_type": "stream",
     "text": [
      "0     Loading... I was a very odd child to many peop...\n",
      "1     Loading... We know training and specific subje...\n",
      "2     Loading...  Why is cold email marketing servic...\n",
      "3     Loading...  Theme-based Video Advertisement  F...\n",
      "4     Loading... Lead generation is the process of a...\n",
      "5     Loading...  Understand the market and your com...\n",
      "6     Loading... Social Media Optimization (One Time...\n",
      "7     Loading... Instagram analytics will give your ...\n",
      "8     Loading...  Logo, branding and post design  Br...\n",
      "9     Loading... Brand engagement refers to the proc...\n",
      "10    Loading... Portfolio allocation refers to the ...\n",
      "11    Loading... SEO is crucial for higher education...\n",
      "12    Loading...  Account management & Lead Gen Shah...\n",
      "13    Loading... ChatGPT is one of the most talked a...\n",
      "14    Loading... A Discovery Consultation will help ...\n",
      "15    Loading...  Empowering Your Team with Training...\n",
      "16    Loading... GenZ researches and understands you...\n",
      "17    Loading...  Why PR & Communication is Importan...\n",
      "18    Loading...  Transformative Marketing Campaign ...\n",
      "19    Loading... Social media marketing (SMM) is the...\n",
      "20    Loading...  Why is content and copywriting imp...\n",
      "21    Loading... We go far further with our competit...\n",
      "22    Loading...  TikTok, LinkedIn Facebook and Inst...\n",
      "23    Loading... Today's fast-paced business world, ...\n",
      "24    Loading... GenZ has a dedicated cold email app...\n",
      "25    Loading... GenZ has experienced and dedicated ...\n",
      "26    Loading... GenZ’s public relations (PR) and co...\n",
      "27    Loading...  Logo, graphic and mockup Shah is a...\n",
      "28    Loading... We publish our newsletter with the ...\n",
      "29    Loading... ROI has become one of the most comm...\n",
      "30    Loading...  Marketing plan to attract new cust...\n",
      "31    Loading... How to Win in Social Selling?  Down...\n",
      "32    Loading... We often focus on the bottom line, ...\n",
      "33    Loading... Our priority at the GenZ Social Sel...\n",
      "34    Loading... Even though LinkedIn may be deliver...\n",
      "35    Loading... Portfolio allocation refers to the ...\n",
      "36    Loading...  LinkedIn, Facebook & Google Campai...\n",
      "37    Loading... Social media management involves th...\n",
      "38    Loading... Welcome to our Frequently Asked Que...\n",
      "39    Loading... GenZ’s dedicated LinkedIn project m...\n",
      "40    Loading...  Logo, branding and post design  Lo...\n",
      "Name: content, dtype: object\n"
     ]
    }
   ],
   "source": [
    "print(data['content'])"
   ]
  },
  {
   "cell_type": "code",
   "execution_count": 34,
   "metadata": {},
   "outputs": [
    {
     "name": "stdout",
     "output_type": "stream",
     "text": [
      "Loading... We know training and specific subject knowledge is the core of personal development and we have the experience to develop training materials for our clients and target audience. Workshops and training are popular, but they aren't always memorable, even when your audience is learning something new and the pandemic has caused an epidemic of Zoom fatigue. Many people find it difficult to listen to others drone on. But, thankfully, you can deliver memorable workshops and training seminars with just a little knowledge. We administrate different types of cold emails campaigns based our clients necessaty and each of them has its way of tergating customer and success. You can refine the message you want to deliver once you know who your audience is. This will be your event's overarching theme, which will inform the topic. Write down in two or three sentences what you want attendees to learn, think, and feel when they come to your event. Then, make sure that everything you do is in line with that goal. Before the event, network and get to know your attendees. Send out a survey with the event registration form, asking them what questions they need answered. That way, when they show up for your event, you'll know more about them and be able to tailor your presentation to their specific needs If you want people to remember your workshop, training, or seminar, you must first understand your audience, then know your topic before focusing on relationship building and sharing your and their stories. Instead of approaching the event as if you were a teacher, imagine yourself as someone telling a story and setting the stage for your audience.                     When you can incorporate a story into what you want them to learn, they are more likely to remember it - especially if they are a part of it. Don't limit yourself to a monologue. Make it a two-way conversation. When you interact with your audience more, they tend to remember more. With encouragement and back-and-forth participation, ask them questions, let them answer, and guide them through your story and the lessons you want them to take away from your presentation. When planning your presentation, keep in mind that there will be a variety of learning styles. Some people learn well by listening to a lecture, but the majority of people require stimulation and demonstration. Making the event more hands-on will help to include all types of learners. ICF-accredited coach certification programs can help you improve your coaching skills and learn how to start an online coaching business. Workshops, training, and seminars can all be enjoyable. Everything does not have to be solemn all of the time. Even at business events, you can have fun while speaking. Of course, depending on your audience, you want to maintain a level of professionalism, but you don't have to be all business all the time. The follow-up to any event is what makes it memorable. How do you keep the people who attended your event engaged over time? Set up a follow-up email sequence with the next event's date for pre-registration, or send them an offer to purchase your online course or 1-on-1 coaching packages. Building long-term relationships will go a long way toward assisting you in hosting memorable events and increasing your event profits. Don't be concerned if things don't go perfectly the first time. The most important thing is to add value to your audience's lives. Even if only five people attend, that's five people who will tell their friends about what they learned and who taught them.  To promote your business online, learn how to host and promote engaging and memorable online coaching workshops and webinars with us. It is not as difficult as it may appear to become an expert in your community. Hosting online or business-oriented workshops is one way to break into the small business scene. It is not as difficult as it may appear to become an expert in your community. Hosting online or business-oriented workshops is one way to break into the small business scene. Depending on the demand for the subject matter, you can host free or paid events. In any case, hosting online workshops and group coaching events is a great way to establish yourself as the go-to expert in your field. Everything begins with your intended audience. Even if you have an audience in mind when planning online events, you must go above and beyond to laser-focus your audience on a whole new level so that your materials are meaningful to the audience. Before you begin event planning, you should know what the topic and theme of your event will be. This will assist you in determining the size of the event, the cost, and a variety of other factors related to event planning and promotion. After you've determined your budget, decide on the software you'll use to host your event. The webinar software you use will be determined by the number of attendees and whether the event will be free or paid. From free and low-cost options like YouTube and LinkedIn Lives to Zoom, there are many excellent software options for hosting group coaching events. Professional group coaching software options are available that include advanced features such as replays and can even assist you in turning your event into an online course.  Now that you've determined your topic and the software you intend to use, it's time to set a budget for the event. You will almost certainly have to pay a fee for the group coaching software you select for the event. You'll also need to budget for event advertising and promotion. You can also learn how to promote your online events on LinkedIn and brand yourself as a coach. Create a temporary LinkedIn group and host a free challenge based on your workshop's topic. Whether you prefer to join other people's LinkedIn groups or create your own, you can find some helpful event marketing tips on LinkedIn. You'll need to create marketing materials before you can start promoting your online workshop or webinar. Ideally, you should outsource your social media marketing to a professional who can design an event website, online event registration, social media pages, and any other marketing materials required to run ads online and offline. Advertise for signups a few weeks before the event. You can precisely target your audience with LinkedIn Ads, but you can also look to other avenues for spreading the word about your event. Stay active on the social platforms you've created to educate, inform, and engage your audience and let them know about your workshop while you're working on your marketing.  We publish our newsletter with the most up to date information regularly. Please suscribe it to know our work, current affears and services.\n"
     ]
    }
   ],
   "source": [
    "print(data['content'][1])"
   ]
  },
  {
   "cell_type": "code",
   "execution_count": 35,
   "metadata": {},
   "outputs": [
    {
     "data": {
      "text/plain": [
       "0      I was a very odd child to many people in my c...\n",
       "1      We know training and specific subject knowled...\n",
       "2       Why is cold email marketing service importan...\n",
       "3       Theme-based Video Advertisement  Faster than...\n",
       "4      Lead generation is the process of attracting ...\n",
       "5       Understand the market and your competitors S...\n",
       "6      Social Media Optimization (One Time)         ...\n",
       "7      Instagram analytics will give your employees ...\n",
       "8       Logo, branding and post design  Branding for...\n",
       "9      Brand engagement refers to the process of for...\n",
       "10     Portfolio allocation refers to the process of...\n",
       "11     SEO is crucial for higher education instituti...\n",
       "12      Account management & Lead Gen Shah is a forc...\n",
       "13     ChatGPT is one of the most talked about topic...\n",
       "14     A Discovery Consultation will help you to und...\n",
       "15      Empowering Your Team with Training and naili...\n",
       "16     GenZ researches and understands your market t...\n",
       "17      Why PR & Communication is Important? Shah is...\n",
       "18      Transformative Marketing Campaign  Case Stud...\n",
       "19     Social media marketing (SMM) is the use of so...\n",
       "20      Why is content and copywriting important? Sh...\n",
       "21     We go far further with our competitive analys...\n",
       "22      TikTok, LinkedIn Facebook and Instagram Shah...\n",
       "23     Today's fast-paced business world, having a w...\n",
       "24     GenZ has a dedicated cold email application f...\n",
       "25     GenZ has experienced and dedicated graphic an...\n",
       "26     GenZ’s public relations (PR) and communicatio...\n",
       "27      Logo, graphic and mockup Shah is a force of ...\n",
       "28     We publish our newsletter with the most up to...\n",
       "29     ROI has become one of the most commonly used ...\n",
       "30      Marketing plan to attract new customer  We h...\n",
       "31     How to Win in Social Selling?  Download this ...\n",
       "32     We often focus on the bottom line, growth, an...\n",
       "33     Our priority at the GenZ Social Selling and L...\n",
       "34     Even though LinkedIn may be delivering a lot ...\n",
       "35     Portfolio allocation refers to the process of...\n",
       "36      LinkedIn, Facebook & Google Campaign  Mentor...\n",
       "37     Social media management involves the manageme...\n",
       "38     Welcome to our Frequently Asked Questions pag...\n",
       "39     GenZ’s dedicated LinkedIn project manager wil...\n",
       "40      Logo, branding and post design  Logo, graphi...\n",
       "Name: content, dtype: object"
      ]
     },
     "execution_count": 35,
     "metadata": {},
     "output_type": "execute_result"
    }
   ],
   "source": [
    "# Remove the 'Loading...' from the 'content' column\n",
    "data['content'] = data['content'].str.replace(r'Loading...', '', regex=True)\n",
    "data['content']\n"
   ]
  },
  {
   "cell_type": "code",
   "execution_count": 36,
   "metadata": {},
   "outputs": [
    {
     "name": "stdout",
     "output_type": "stream",
     "text": [
      " We know training and specific subject knowledge is the core of personal development and we have the experience to develop training materials for our clients and target audience. Workshops and training are popular, but they aren't always memorable, even when your audience is learning something new and the pandemic has caused an epidemic of Zoom fatigue. Many people find it difficult to listen to others drone on. But, thankfully, you can deliver memorable workshops and training seminars with just a little knowledge. We administrate different types of cold emails campaigns based our clients necessaty and each of them has its way of tergating customer and success. You can refine the message you want to deliver once you know who your audience is. This will be your event's overarching theme, which will inform the topic. Write down in two or three sentences what you want attendees to learn, think, and feel when they come to your event. Then, make sure that everything you do is in line with that goal. Before the event, network and get to know your attendees. Send out a survey with the event registration form, asking them what questions they need answered. That way, when they show up for your event, you'll know more about them and be able to tailor your presentation to their specific needs If you want people to remember your workshop, training, or seminar, you must first understand your audience, then know your topic before focusing on relationship building and sharing your and their stories. Instead of approaching the event as if you were a teacher, imagine yourself as someone telling a story and setting the stage for your audience.                     When you can incorporate a story into what you want them to learn, they are more likely to remember it - especially if they are a part of it. Don't limit yourself to a monologue. Make it a two-way conversation. When you interact with your audience more, they tend to remember more. With encouragement and back-and-forth participation, ask them questions, let them answer, and guide them through your story and the lessons you want them to take away from your presentation. When planning your presentation, keep in mind that there will be a variety of learning styles. Some people learn well by listening to a lecture, but the majority of people require stimulation and demonstration. Making the event more hands-on will help to include all types of learners. ICF-accredited coach certification programs can help you improve your coaching skills and learn how to start an online coaching business. Workshops, training, and seminars can all be enjoyable. Everything does not have to be solemn all of the time. Even at business events, you can have fun while speaking. Of course, depending on your audience, you want to maintain a level of professionalism, but you don't have to be all business all the time. The follow-up to any event is what makes it memorable. How do you keep the people who attended your event engaged over time? Set up a follow-up email sequence with the next event's date for pre-registration, or send them an offer to purchase your online course or 1-on-1 coaching packages. Building long-term relationships will go a long way toward assisting you in hosting memorable events and increasing your event profits. Don't be concerned if things don't go perfectly the first time. The most important thing is to add value to your audience's lives. Even if only five people attend, that's five people who will tell their friends about what they learned and who taught them.  To promote your business online, learn how to host and promote engaging and memorable online coaching workshops and webinars with us. It is not as difficult as it may appear to become an expert in your community. Hosting online or business-oriented workshops is one way to break into the small business scene. It is not as difficult as it may appear to become an expert in your community. Hosting online or business-oriented workshops is one way to break into the small business scene. Depending on the demand for the subject matter, you can host free or paid events. In any case, hosting online workshops and group coaching events is a great way to establish yourself as the go-to expert in your field. Everything begins with your intended audience. Even if you have an audience in mind when planning online events, you must go above and beyond to laser-focus your audience on a whole new level so that your materials are meaningful to the audience. Before you begin event planning, you should know what the topic and theme of your event will be. This will assist you in determining the size of the event, the cost, and a variety of other factors related to event planning and promotion. After you've determined your budget, decide on the software you'll use to host your event. The webinar software you use will be determined by the number of attendees and whether the event will be free or paid. From free and low-cost options like YouTube and LinkedIn Lives to Zoom, there are many excellent software options for hosting group coaching events. Professional group coaching software options are available that include advanced features such as replays and can even assist you in turning your event into an online course.  Now that you've determined your topic and the software you intend to use, it's time to set a budget for the event. You will almost certainly have to pay a fee for the group coaching software you select for the event. You'll also need to budget for event advertising and promotion. You can also learn how to promote your online events on LinkedIn and brand yourself as a coach. Create a temporary LinkedIn group and host a free challenge based on your workshop's topic. Whether you prefer to join other people's LinkedIn groups or create your own, you can find some helpful event marketing tips on LinkedIn. You'll need to create marketing materials before you can start promoting your online workshop or webinar. Ideally, you should outsource your social media marketing to a professional who can design an event website, online event registration, social media pages, and any other marketing materials required to run ads online and offline. Advertise for signups a few weeks before the event. You can precisely target your audience with LinkedIn Ads, but you can also look to other avenues for spreading the word about your event. Stay active on the social platforms you've created to educate, inform, and engage your audience and let them know about your workshop while you're working on your marketing.  We publish our newsletter with the most up to date information regularly. Please suscribe it to know our work, current affears and services.\n"
     ]
    }
   ],
   "source": [
    "print(data['content'][1]) # Displaying the content of the first row"
   ]
  },
  {
   "cell_type": "code",
   "execution_count": 37,
   "metadata": {},
   "outputs": [
    {
     "data": {
      "text/html": [
       "<div>\n",
       "<style scoped>\n",
       "    .dataframe tbody tr th:only-of-type {\n",
       "        vertical-align: middle;\n",
       "    }\n",
       "\n",
       "    .dataframe tbody tr th {\n",
       "        vertical-align: top;\n",
       "    }\n",
       "\n",
       "    .dataframe thead th {\n",
       "        text-align: right;\n",
       "    }\n",
       "</style>\n",
       "<table border=\"1\" class=\"dataframe\">\n",
       "  <thead>\n",
       "    <tr style=\"text-align: right;\">\n",
       "      <th></th>\n",
       "      <th>title</th>\n",
       "      <th>url</th>\n",
       "      <th>content</th>\n",
       "    </tr>\n",
       "  </thead>\n",
       "  <tbody>\n",
       "    <tr>\n",
       "      <th>0</th>\n",
       "      <td>The Neurodivergent Business Consortium (NBC) p...</td>\n",
       "      <td>https://genzmarketing.xyz/blog/the-neurodiverg...</td>\n",
       "      <td>I was a very odd child to many people in my ch...</td>\n",
       "    </tr>\n",
       "    <tr>\n",
       "      <th>1</th>\n",
       "      <td>Untitled</td>\n",
       "      <td>https://genzmarketing.xyz/service-CT</td>\n",
       "      <td>We know training and specific subject knowledg...</td>\n",
       "    </tr>\n",
       "    <tr>\n",
       "      <th>2</th>\n",
       "      <td>Cold Email Marketing Portfolio</td>\n",
       "      <td>https://genzmarketing.xyz/portfolio/category/e...</td>\n",
       "      <td>Why is cold email marketing service important?...</td>\n",
       "    </tr>\n",
       "    <tr>\n",
       "      <th>3</th>\n",
       "      <td>Video Advertisement Portfolio</td>\n",
       "      <td>https://genzmarketing.xyz/portfolio/category/e...</td>\n",
       "      <td>Theme-based Video Advertisement Faster than po...</td>\n",
       "    </tr>\n",
       "    <tr>\n",
       "      <th>4</th>\n",
       "      <td>How Lead Generation Works?</td>\n",
       "      <td>https://genzmarketing.xyz/blog/how-lead-genera...</td>\n",
       "      <td>Lead generation is the process of attracting p...</td>\n",
       "    </tr>\n",
       "  </tbody>\n",
       "</table>\n",
       "</div>"
      ],
      "text/plain": [
       "                                               title  \\\n",
       "0  The Neurodivergent Business Consortium (NBC) p...   \n",
       "1                                           Untitled   \n",
       "2                     Cold Email Marketing Portfolio   \n",
       "3                      Video Advertisement Portfolio   \n",
       "4                         How Lead Generation Works?   \n",
       "\n",
       "                                                 url  \\\n",
       "0  https://genzmarketing.xyz/blog/the-neurodiverg...   \n",
       "1               https://genzmarketing.xyz/service-CT   \n",
       "2  https://genzmarketing.xyz/portfolio/category/e...   \n",
       "3  https://genzmarketing.xyz/portfolio/category/e...   \n",
       "4  https://genzmarketing.xyz/blog/how-lead-genera...   \n",
       "\n",
       "                                             content  \n",
       "0  I was a very odd child to many people in my ch...  \n",
       "1  We know training and specific subject knowledg...  \n",
       "2  Why is cold email marketing service important?...  \n",
       "3  Theme-based Video Advertisement Faster than po...  \n",
       "4  Lead generation is the process of attracting p...  "
      ]
     },
     "execution_count": 37,
     "metadata": {},
     "output_type": "execute_result"
    }
   ],
   "source": [
    "# Remove extra spaces from 'title' and 'content' columns\n",
    "data['title'] = data['title'].str.replace(r'\\s+', ' ', regex=True).str.strip()\n",
    "data['content'] = data['content'].str.replace(r'\\s+', ' ', regex=True).str.strip()\n",
    "\n",
    "# Display the cleaned dataset\n",
    "data.head(5)"
   ]
  },
  {
   "cell_type": "code",
   "execution_count": 38,
   "metadata": {},
   "outputs": [
    {
     "data": {
      "text/plain": [
       "0     The Neurodivergent Business Consortium (NBC) p...\n",
       "1                                              Untitled\n",
       "2                        Cold Email Marketing Portfolio\n",
       "3                         Video Advertisement Portfolio\n",
       "4                            How Lead Generation Works?\n",
       "5                        Competitive Analysis Portfolio\n",
       "6                                             Portfolio\n",
       "7              Instagram Metrics You Should Be Tracking\n",
       "8                                    Branding Portfolio\n",
       "9                        Is brand engagement necessary?\n",
       "10             Factors that Affect Portfolio Allocation\n",
       "11                 Best SEO Agency for Higher Education\n",
       "12                    Social Media Management Portfolio\n",
       "13    How ChatGPT can help you to write the company ...\n",
       "14                                          Get Started\n",
       "15                       Training & Mentoring Portfolio\n",
       "16                                             Untitled\n",
       "17                        PR & Communications Portfolio\n",
       "18                               Case Studies Portfolio\n",
       "19                      What is Social media marketing?\n",
       "20                      Content & Copywriting Portfolio\n",
       "21                               Services GenZMarketing\n",
       "22                     Social Media Marketing Portfolio\n",
       "23         The necessity of web application development\n",
       "24                                             Untitled\n",
       "25                                             Untitled\n",
       "26                                             Untitled\n",
       "27                          Graphic Designing Portfolio\n",
       "28                                           Contact Us\n",
       "29                  What is Return On Investment (ROI)?\n",
       "30                                  Marketing Portfolio\n",
       "31                                                Books\n",
       "32            Can Community Service grow your business?\n",
       "33                                             About Us\n",
       "34          How to Increase Web Traffic Using LinkedIn?\n",
       "35                                   Blog GenZMarketing\n",
       "36                      Social Media Campaign Portfolio\n",
       "37    Improve your Social presence through Social me...\n",
       "38                                                 FAQS\n",
       "39                                             Untitled\n",
       "40                                            Portfolio\n",
       "Name: title, dtype: object"
      ]
     },
     "execution_count": 38,
     "metadata": {},
     "output_type": "execute_result"
    }
   ],
   "source": [
    "data['title']"
   ]
  },
  {
   "cell_type": "code",
   "execution_count": 39,
   "metadata": {},
   "outputs": [
    {
     "data": {
      "text/plain": [
       "0     I was a very odd child to many people in my ch...\n",
       "1     We know training and specific subject knowledg...\n",
       "2     Why is cold email marketing service important?...\n",
       "3     Theme-based Video Advertisement Faster than po...\n",
       "4     Lead generation is the process of attracting p...\n",
       "5     Understand the market and your competitors Sha...\n",
       "6     Social Media Optimization (One Time) Content &...\n",
       "7     Instagram analytics will give your employees a...\n",
       "8     Logo, branding and post design Branding for Kw...\n",
       "9     Brand engagement refers to the process of form...\n",
       "10    Portfolio allocation refers to the process of ...\n",
       "11    SEO is crucial for higher education institutio...\n",
       "12    Account management & Lead Gen Shah is a force ...\n",
       "13    ChatGPT is one of the most talked about topics...\n",
       "14    A Discovery Consultation will help you to unde...\n",
       "15    Empowering Your Team with Training and nailing...\n",
       "16    GenZ researches and understands your market to...\n",
       "17    Why PR & Communication is Important? Shah is a...\n",
       "18    Transformative Marketing Campaign Case Study: ...\n",
       "19    Social media marketing (SMM) is the use of soc...\n",
       "20    Why is content and copywriting important? Shah...\n",
       "21    We go far further with our competitive analysi...\n",
       "22    TikTok, LinkedIn Facebook and Instagram Shah i...\n",
       "23    Today's fast-paced business world, having a we...\n",
       "24    GenZ has a dedicated cold email application fo...\n",
       "25    GenZ has experienced and dedicated graphic and...\n",
       "26    GenZ’s public relations (PR) and communication...\n",
       "27    Logo, graphic and mockup Shah is a force of na...\n",
       "28    We publish our newsletter with the most up to ...\n",
       "29    ROI has become one of the most commonly used i...\n",
       "30    Marketing plan to attract new customer We help...\n",
       "31    How to Win in Social Selling? Download this eB...\n",
       "32    We often focus on the bottom line, growth, and...\n",
       "33    Our priority at the GenZ Social Selling and Li...\n",
       "34    Even though LinkedIn may be delivering a lot o...\n",
       "35    Portfolio allocation refers to the process of ...\n",
       "36    LinkedIn, Facebook & Google Campaign Mentoring...\n",
       "37    Social media management involves the managemen...\n",
       "38    Welcome to our Frequently Asked Questions page...\n",
       "39    GenZ’s dedicated LinkedIn project manager will...\n",
       "40    Logo, branding and post design Logo, graphic a...\n",
       "Name: content, dtype: object"
      ]
     },
     "execution_count": 39,
     "metadata": {},
     "output_type": "execute_result"
    }
   ],
   "source": [
    "data['content']"
   ]
  },
  {
   "cell_type": "code",
   "execution_count": 40,
   "metadata": {},
   "outputs": [
    {
     "name": "stdout",
     "output_type": "stream",
     "text": [
      "Data cleaning complete. Saved as cleaned_genzmarketing_data.csv.\n"
     ]
    }
   ],
   "source": [
    "# Save the cleaned data\n",
    "cleaned_data = pd.DataFrame(data)\n",
    "cleaned_data.to_csv('cleaned_genzmarketing_data.csv', index=False)\n",
    "print(\"Data cleaning complete. Saved as cleaned_genzmarketing_data.csv.\")"
   ]
  },
  {
   "cell_type": "code",
   "execution_count": 42,
   "metadata": {},
   "outputs": [
    {
     "data": {
      "text/html": [
       "<div>\n",
       "<style scoped>\n",
       "    .dataframe tbody tr th:only-of-type {\n",
       "        vertical-align: middle;\n",
       "    }\n",
       "\n",
       "    .dataframe tbody tr th {\n",
       "        vertical-align: top;\n",
       "    }\n",
       "\n",
       "    .dataframe thead th {\n",
       "        text-align: right;\n",
       "    }\n",
       "</style>\n",
       "<table border=\"1\" class=\"dataframe\">\n",
       "  <thead>\n",
       "    <tr style=\"text-align: right;\">\n",
       "      <th></th>\n",
       "      <th>title</th>\n",
       "      <th>url</th>\n",
       "      <th>content</th>\n",
       "    </tr>\n",
       "  </thead>\n",
       "  <tbody>\n",
       "    <tr>\n",
       "      <th>0</th>\n",
       "      <td>The Neurodivergent Business Consortium (NBC) p...</td>\n",
       "      <td>https://genzmarketing.xyz/blog/the-neurodiverg...</td>\n",
       "      <td>I was a very odd child to many people in my ch...</td>\n",
       "    </tr>\n",
       "    <tr>\n",
       "      <th>1</th>\n",
       "      <td>Untitled</td>\n",
       "      <td>https://genzmarketing.xyz/service-CT</td>\n",
       "      <td>We know training and specific subject knowledg...</td>\n",
       "    </tr>\n",
       "    <tr>\n",
       "      <th>2</th>\n",
       "      <td>Cold Email Marketing Portfolio</td>\n",
       "      <td>https://genzmarketing.xyz/portfolio/category/e...</td>\n",
       "      <td>Why is cold email marketing service important?...</td>\n",
       "    </tr>\n",
       "    <tr>\n",
       "      <th>3</th>\n",
       "      <td>Video Advertisement Portfolio</td>\n",
       "      <td>https://genzmarketing.xyz/portfolio/category/e...</td>\n",
       "      <td>Theme-based Video Advertisement Faster than po...</td>\n",
       "    </tr>\n",
       "    <tr>\n",
       "      <th>4</th>\n",
       "      <td>How Lead Generation Works?</td>\n",
       "      <td>https://genzmarketing.xyz/blog/how-lead-genera...</td>\n",
       "      <td>Lead generation is the process of attracting p...</td>\n",
       "    </tr>\n",
       "  </tbody>\n",
       "</table>\n",
       "</div>"
      ],
      "text/plain": [
       "                                               title  \\\n",
       "0  The Neurodivergent Business Consortium (NBC) p...   \n",
       "1                                           Untitled   \n",
       "2                     Cold Email Marketing Portfolio   \n",
       "3                      Video Advertisement Portfolio   \n",
       "4                         How Lead Generation Works?   \n",
       "\n",
       "                                                 url  \\\n",
       "0  https://genzmarketing.xyz/blog/the-neurodiverg...   \n",
       "1               https://genzmarketing.xyz/service-CT   \n",
       "2  https://genzmarketing.xyz/portfolio/category/e...   \n",
       "3  https://genzmarketing.xyz/portfolio/category/e...   \n",
       "4  https://genzmarketing.xyz/blog/how-lead-genera...   \n",
       "\n",
       "                                             content  \n",
       "0  I was a very odd child to many people in my ch...  \n",
       "1  We know training and specific subject knowledg...  \n",
       "2  Why is cold email marketing service important?...  \n",
       "3  Theme-based Video Advertisement Faster than po...  \n",
       "4  Lead generation is the process of attracting p...  "
      ]
     },
     "execution_count": 42,
     "metadata": {},
     "output_type": "execute_result"
    }
   ],
   "source": [
    "# Check cleaned data\n",
    "cleaned_data = pd.read_csv('cleaned_genzmarketing_data.csv')\n",
    "cleaned_data.head(5) # Displaying the first 5 rows of the cleaned dataset"
   ]
  },
  {
   "cell_type": "code",
   "execution_count": null,
   "metadata": {},
   "outputs": [],
   "source": []
  }
 ],
 "metadata": {
  "kernelspec": {
   "display_name": "venv",
   "language": "python",
   "name": "python3"
  },
  "language_info": {
   "codemirror_mode": {
    "name": "ipython",
    "version": 3
   },
   "file_extension": ".py",
   "mimetype": "text/x-python",
   "name": "python",
   "nbconvert_exporter": "python",
   "pygments_lexer": "ipython3",
   "version": "3.12.3"
  }
 },
 "nbformat": 4,
 "nbformat_minor": 2
}
